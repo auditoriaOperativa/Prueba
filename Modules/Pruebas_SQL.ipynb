{
 "cells": [
  {
   "cell_type": "code",
   "execution_count": 97,
   "metadata": {},
   "outputs": [
    {
     "ename": "AttributeError",
     "evalue": "'str' object has no attribute '_accessor'",
     "output_type": "error",
     "traceback": [
      "\u001b[1;31m---------------------------------------------------------------------------\u001b[0m",
      "\u001b[1;31mAttributeError\u001b[0m                            Traceback (most recent call last)",
      "Cell \u001b[1;32mIn[97], line 3\u001b[0m\n\u001b[0;32m      1\u001b[0m \u001b[38;5;28;01mfrom\u001b[39;00m \u001b[38;5;21;01mpathlib\u001b[39;00m \u001b[38;5;28;01mimport\u001b[39;00m Path\n\u001b[1;32m----> 3\u001b[0m \u001b[38;5;28mdir\u001b[39m \u001b[38;5;241m=\u001b[39m \u001b[43mPath\u001b[49m\u001b[38;5;241;43m.\u001b[39;49m\u001b[43mresolve\u001b[49m\u001b[43m(\u001b[49m\u001b[38;5;124;43m'\u001b[39;49m\u001b[38;5;124;43mself\u001b[39;49m\u001b[38;5;124;43m'\u001b[39;49m\u001b[43m,\u001b[49m\u001b[38;5;124;43m'\u001b[39;49m\u001b[38;5;124;43mYES\u001b[39;49m\u001b[38;5;124;43m'\u001b[39;49m\u001b[43m)\u001b[49m\n",
      "File \u001b[1;32mC:\\Program Files\\WindowsApps\\PythonSoftwareFoundation.Python.3.10_3.10.3056.0_x64__qbz5n2kfra8p0\\lib\\pathlib.py:1077\u001b[0m, in \u001b[0;36mPath.resolve\u001b[1;34m(self, strict)\u001b[0m\n\u001b[0;32m   1074\u001b[0m         \u001b[39mraise\u001b[39;00m \u001b[39mRuntimeError\u001b[39;00m(\u001b[39m\"\u001b[39m\u001b[39mSymlink loop from \u001b[39m\u001b[39m%r\u001b[39;00m\u001b[39m\"\u001b[39m \u001b[39m%\u001b[39m e\u001b[39m.\u001b[39mfilename)\n\u001b[0;32m   1076\u001b[0m \u001b[39mtry\u001b[39;00m:\n\u001b[1;32m-> 1077\u001b[0m     s \u001b[39m=\u001b[39m \u001b[39mself\u001b[39;49m\u001b[39m.\u001b[39;49m_accessor\u001b[39m.\u001b[39mrealpath(\u001b[39mself\u001b[39m, strict\u001b[39m=\u001b[39mstrict)\n\u001b[0;32m   1078\u001b[0m \u001b[39mexcept\u001b[39;00m \u001b[39mOSError\u001b[39;00m \u001b[39mas\u001b[39;00m e:\n\u001b[0;32m   1079\u001b[0m     check_eloop(e)\n",
      "\u001b[1;31mAttributeError\u001b[0m: 'str' object has no attribute '_accessor'"
     ]
    }
   ],
   "source": [
    "from pathlib import Path\n",
    "\n",
    "dir = Path.resolve('self','YES')"
   ]
  },
  {
   "cell_type": "code",
   "execution_count": 98,
   "metadata": {},
   "outputs": [
    {
     "ename": "ImportError",
     "evalue": "attempted relative import with no known parent package",
     "output_type": "error",
     "traceback": [
      "\u001b[1;31m---------------------------------------------------------------------------\u001b[0m",
      "\u001b[1;31mImportError\u001b[0m                               Traceback (most recent call last)",
      "Cell \u001b[1;32mIn[98], line 7\u001b[0m\n\u001b[0;32m      5\u001b[0m \u001b[38;5;28;01mfrom\u001b[39;00m \u001b[38;5;21;01msqlalchemy\u001b[39;00m \u001b[38;5;28;01mimport\u001b[39;00m and_, case, exists, not_, or_, select\n\u001b[0;32m      6\u001b[0m \u001b[38;5;28;01mimport\u001b[39;00m \u001b[38;5;21;01mpyodbc\u001b[39;00m\n\u001b[1;32m----> 7\u001b[0m \u001b[38;5;28;01mfrom\u001b[39;00m \u001b[38;5;21;01m.\u001b[39;00m\u001b[38;5;21;01m.\u001b[39;00m\u001b[38;5;21;01mModels\u001b[39;00m\u001b[38;5;21;01m.\u001b[39;00m\u001b[38;5;21;01mbase\u001b[39;00m \u001b[38;5;28;01mimport\u001b[39;00m Base\n\u001b[0;32m      8\u001b[0m \u001b[38;5;28;01mimport\u001b[39;00m \u001b[38;5;21;01mos\u001b[39;00m\n\u001b[0;32m      9\u001b[0m \u001b[38;5;28;01mfrom\u001b[39;00m \u001b[38;5;21;01m.\u001b[39;00m\u001b[38;5;21;01m.\u001b[39;00m\u001b[38;5;21;01mUtil\u001b[39;00m\u001b[38;5;21;01m.\u001b[39;00m\u001b[38;5;21;01mPaths\u001b[39;00m \u001b[38;5;28;01mimport\u001b[39;00m pathFromCloudAS,appSheetFolderName,excelName,pedidoExcelSheet,UEN,imagesFolderName,version,TIPO_AUDITORIA,UEN,PROCESO,SUBPROCESO,vsMateriales,SUBPROCESOMateriales ,SUBPROCESOParametros,vsParametros\n",
      "\u001b[1;31mImportError\u001b[0m: attempted relative import with no known parent package"
     ]
    }
   ],
   "source": [
    "from sqlalchemy.ext.automap import automap_base\n",
    "from sqlalchemy.orm import Session\n",
    "from sqlalchemy import MetaData, create_engine\n",
    "from sqlalchemy import Column, DateTime, Float, Integer, String\n",
    "from sqlalchemy import and_, case, exists, not_, or_, select\n",
    "import pyodbc\n",
    "from ..Models.base import Base\n",
    "import os\n",
    "from ..Util.Paths import pathFromCloudAS,appSheetFolderName,excelName,pedidoExcelSheet,UEN,imagesFolderName,version,TIPO_AUDITORIA,UEN,PROCESO,SUBPROCESO,vsMateriales,SUBPROCESOMateriales ,SUBPROCESOParametros,vsParametros"
   ]
  },
  {
   "cell_type": "code",
   "execution_count": 70,
   "metadata": {},
   "outputs": [],
   "source": [
    "direccion_servidor = 'hp314547'\n",
    "nombre_bd = 'AuditoriaDeCampo'\n",
    "nombre_usuario = 'usr_tecnico'\n",
    "password = 'auditoria'\n",
    "driver = 'ODBC Driver 17 for SQL Server'"
   ]
  },
  {
   "cell_type": "code",
   "execution_count": 71,
   "metadata": {},
   "outputs": [],
   "source": [
    "engine=create_engine('mssql+pyodbc://{0}:{1}@{2}/{3}?driver={4}'.format(nombre_usuario,password,direccion_servidor,nombre_bd,driver))"
   ]
  },
  {
   "cell_type": "code",
   "execution_count": 72,
   "metadata": {},
   "outputs": [],
   "source": [
    "metadata = MetaData()"
   ]
  },
  {
   "cell_type": "code",
   "execution_count": 73,
   "metadata": {},
   "outputs": [],
   "source": [
    "metadata.reflect(engine, only=['LOGINFO','TmpPremisasOff_HG_Aprov','TmpParamAuditPremOff_HG_Aprov','DimParametros2','FacPremisasOff_HG_Aprov','ParamAuditPremOff_HG_Aprov','DimCampos'])"
   ]
  },
  {
   "cell_type": "code",
   "execution_count": 74,
   "metadata": {},
   "outputs": [],
   "source": [
    "Base = automap_base(metadata=metadata)"
   ]
  },
  {
   "cell_type": "code",
   "execution_count": 75,
   "metadata": {},
   "outputs": [],
   "source": [
    "Base.prepare()"
   ]
  },
  {
   "cell_type": "code",
   "execution_count": 76,
   "metadata": {},
   "outputs": [],
   "source": [
    "session = Session(engine)"
   ]
  },
  {
   "cell_type": "code",
   "execution_count": 48,
   "metadata": {},
   "outputs": [],
   "source": [
    "query = '''select PEDIDO_ID,COUNT(*) as num_veces\n",
    "from TmpPremisasOff_HG_Aprov\n",
    "where ESTADO_GENERAL != 'sin gestion'\n",
    "GROUP BY PEDIDO_ID\n",
    "HAVING COUNT(*)>1\n",
    "'''"
   ]
  },
  {
   "cell_type": "code",
   "execution_count": 49,
   "metadata": {},
   "outputs": [],
   "source": [
    "result = session.execute(query).fetchall()"
   ]
  },
  {
   "cell_type": "code",
   "execution_count": 77,
   "metadata": {},
   "outputs": [],
   "source": [
    "DimCampos = Base.classes.DimCampos\n",
    "TmpTable = Base.classes.TmpPremisasOff_HG_Aprov\n"
   ]
  },
  {
   "cell_type": "code",
   "execution_count": 81,
   "metadata": {},
   "outputs": [],
   "source": [
    "def campoCALIDAD_DATA(TmpTable):\n",
    "\n",
    "    ###### Etiqueta  [CALIDAD_DATA] = 'NO' LOS CAMPOS PROBADOS Y EL RESTO LOS DEJA COMO [CALIDAD_DATA] = 'SI'\n",
    "    ###### algo falla\n",
    "    \n",
    "    with session.begin():\n",
    "        session.query(TmpTable).filter(\n",
    "                     TmpTable.ESTADO_GENERAL == 'SIN GESTION').\\\n",
    "                    update({TmpTable.CALIDAD_DATA :'NO APLICA'},\n",
    "                    synchronize_session=False)\n",
    "        session.query(TmpTable).filter(or_(and_(\n",
    "                     TmpTable.ESTADO_GENERAL.in_(('NO AUDITADO','AUDITADO')),\n",
    "                                    or_(TmpTable.ENVIAR  != 1,\n",
    "                                        TmpTable.FECHA_AUDITORIA  == None,\n",
    "                                        TmpTable.HORA_INICIO   == None,\n",
    "                                        TmpTable.LATITUD_LONGITUD   == None,\n",
    "                                        TmpTable.HORA_FINALIZACION   == None)),\n",
    "                                        and_(\n",
    "                     TmpTable.ESTADO_GENERAL == 'AUDITADO',TmpTable.TECNOLOGIA_AUDIT   == None))\n",
    "                                        ).\\\n",
    "                    update({TmpTable.CALIDAD_DATA :'NO'},\n",
    "                    synchronize_session=False)\n",
    "\n",
    "        session.query(TmpTable).filter(\n",
    "                     TmpTable.CALIDAD_DATA == None).\\\n",
    "                    update({TmpTable.CALIDAD_DATA :'SI'},\n",
    "                    synchronize_session=False)\n",
    "        session.commit()"
   ]
  }
 ],
 "metadata": {
  "kernelspec": {
   "display_name": "Python 3.10.11 ('projectEnv': venv)",
   "language": "python",
   "name": "python3"
  },
  "language_info": {
   "codemirror_mode": {
    "name": "ipython",
    "version": 3
   },
   "file_extension": ".py",
   "mimetype": "text/x-python",
   "name": "python",
   "nbconvert_exporter": "python",
   "pygments_lexer": "ipython3",
   "version": "3.10.11"
  },
  "orig_nbformat": 4,
  "vscode": {
   "interpreter": {
    "hash": "0fc280c8d183ee78f806c862babd074c0c93cb1efd097fd421a137526b2ea0f0"
   }
  }
 },
 "nbformat": 4,
 "nbformat_minor": 2
}
